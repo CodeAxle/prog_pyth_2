{
 "cells": [
  {
   "cell_type": "markdown",
   "id": "cdbca1d8",
   "metadata": {},
   "source": [
    "# 1."
   ]
  },
  {
   "cell_type": "code",
   "execution_count": 1,
   "id": "21eae7db",
   "metadata": {},
   "outputs": [
    {
     "name": "stdout",
     "output_type": "stream",
     "text": [
      "Enter distance in kilometers: 100\n",
      "100.0 kilometers is equal to 62.137100000000004 miles.\n"
     ]
    }
   ],
   "source": [
    "# code:\n",
    "def km_to_miles(kilometers):\n",
    "    # Conversion factor: 1 kilometer = 0.621371 miles\n",
    "    conversion_factor = 0.621371\n",
    "    miles = kilometers * conversion_factor\n",
    "    return miles\n",
    "\n",
    "# Input kilometers from the user\n",
    "kilometers = float(input(\"Enter distance in kilometers: \"))\n",
    "\n",
    "# Call the conversion function and print the result\n",
    "miles = km_to_miles(kilometers)\n",
    "print(f\"{kilometers} kilometers is equal to {miles} miles.\")"
   ]
  },
  {
   "cell_type": "markdown",
   "id": "bbe03759",
   "metadata": {},
   "source": [
    "# 2."
   ]
  },
  {
   "cell_type": "code",
   "execution_count": 2,
   "id": "2beb73f0",
   "metadata": {},
   "outputs": [
    {
     "name": "stdout",
     "output_type": "stream",
     "text": [
      "Enter temperature in Celsius: 100\n",
      "100.0 degrees Celsius is equal to 212.0 degrees Fahrenheit.\n"
     ]
    }
   ],
   "source": [
    "# code:\n",
    "def celsius_to_fahrenheit(celsius):\n",
    "    # Conversion formula: Fahrenheit = (Celsius * 9/5) + 32\n",
    "    fahrenheit = (celsius * 9/5) + 32\n",
    "    return fahrenheit\n",
    "\n",
    "# Input temperature in Celsius from the user\n",
    "celsius = float(input(\"Enter temperature in Celsius: \"))\n",
    "\n",
    "# Call the conversion function and print the result\n",
    "fahrenheit = celsius_to_fahrenheit(celsius)\n",
    "print(f\"{celsius} degrees Celsius is equal to {fahrenheit} degrees Fahrenheit.\")"
   ]
  },
  {
   "cell_type": "markdown",
   "id": "1e38b908",
   "metadata": {},
   "source": [
    "# 3."
   ]
  },
  {
   "cell_type": "code",
   "execution_count": 3,
   "id": "28434bfa",
   "metadata": {},
   "outputs": [
    {
     "name": "stdout",
     "output_type": "stream",
     "text": [
      "Enter the year (e.g., 2023): 2024\n",
      "Enter the month (1-12): 1\n",
      "Calendar for January 2024:\n",
      "\n",
      "    January 2024\n",
      "Mo Tu We Th Fr Sa Su\n",
      " 1  2  3  4  5  6  7\n",
      " 8  9 10 11 12 13 14\n",
      "15 16 17 18 19 20 21\n",
      "22 23 24 25 26 27 28\n",
      "29 30 31\n",
      "\n"
     ]
    }
   ],
   "source": [
    "# code:\n",
    "import calendar\n",
    "\n",
    "def display_calendar(year, month):\n",
    "    # Print the calendar for the specified year and month\n",
    "    cal = calendar.month(year, month)\n",
    "    print(f\"Calendar for {calendar.month_name[month]} {year}:\\n\")\n",
    "    print(cal)\n",
    "\n",
    "# Input year and month from the user\n",
    "year = int(input(\"Enter the year (e.g., 2023): \"))\n",
    "month = int(input(\"Enter the month (1-12): \"))\n",
    "\n",
    "# Call the function to display the calendar\n",
    "display_calendar(year, month)"
   ]
  },
  {
   "cell_type": "markdown",
   "id": "57110148",
   "metadata": {},
   "source": [
    "# 4."
   ]
  },
  {
   "cell_type": "code",
   "execution_count": null,
   "id": "080a3e10",
   "metadata": {},
   "outputs": [],
   "source": [
    "# code:\n",
    "import math\n",
    "\n",
    "def solve_quadratic(a, b, c):\n",
    "    # Calculate the discriminant\n",
    "    discriminant = b**2 - 4*a*c\n",
    "\n",
    "    # Check if the discriminant is positive, negative, or zero\n",
    "    if discriminant > 0:\n",
    "        # Two distinct real roots\n",
    "        root1 = (-b + math.sqrt(discriminant)) / (2*a)\n",
    "        root2 = (-b - math.sqrt(discriminant)) / (2*a)\n",
    "        return root1, root2\n",
    "    elif discriminant == 0:\n",
    "        # One real root (double root)\n",
    "        root = -b / (2*a)\n",
    "        return root, root\n",
    "    else:\n",
    "        # Complex roots (no real roots)\n",
    "        real_part = -b / (2*a)\n",
    "        imaginary_part = math.sqrt(abs(discriminant)) / (2*a)\n",
    "        return f\"{real_part} + {imaginary_part}i\", f\"{real_part} - {imaginary_part}i\"\n",
    "\n",
    "# Input coefficients from the user\n",
    "a = float(input(\"Enter the coefficient of x^2: \"))\n",
    "b = float(input(\"Enter the coefficient of x: \"))\n",
    "c = float(input(\"Enter the constant term: \"))\n",
    "\n",
    "# Call the function to solve the quadratic equation\n",
    "roots = solve_quadratic(a, b, c)\n",
    "\n",
    "# Display the roots\n",
    "print(\"Roots of the quadratic equation:\")\n",
    "if isinstance(roots[0], complex):\n",
    "    print(\"Root 1:\", roots[0])\n",
    "    print(\"Root 2:\", roots[1])\n",
    "else:\n",
    "    print(\"Root 1:\", roots[0])\n",
    "    print(\"Root 2:\", roots[1])"
   ]
  },
  {
   "cell_type": "markdown",
   "id": "b1ddd92e",
   "metadata": {},
   "source": [
    "# 5."
   ]
  },
  {
   "cell_type": "code",
   "execution_count": 7,
   "id": "154686d2",
   "metadata": {},
   "outputs": [
    {
     "name": "stdout",
     "output_type": "stream",
     "text": [
      "After swapping:\n",
      "a = 20\n",
      "b = 10\n"
     ]
    }
   ],
   "source": [
    "# code:\n",
    "# Initial values of the variables\n",
    "a = 10\n",
    "b = 20\n",
    "\n",
    "# Swapping using tuple packing and unpacking\n",
    "a, b = b, a\n",
    "\n",
    "# Print the swapped values\n",
    "print(\"After swapping:\")\n",
    "print(\"a =\", a)\n",
    "print(\"b =\", b)"
   ]
  }
 ],
 "metadata": {
  "kernelspec": {
   "display_name": "Python 3 (ipykernel)",
   "language": "python",
   "name": "python3"
  },
  "language_info": {
   "codemirror_mode": {
    "name": "ipython",
    "version": 3
   },
   "file_extension": ".py",
   "mimetype": "text/x-python",
   "name": "python",
   "nbconvert_exporter": "python",
   "pygments_lexer": "ipython3",
   "version": "3.11.5"
  }
 },
 "nbformat": 4,
 "nbformat_minor": 5
}
